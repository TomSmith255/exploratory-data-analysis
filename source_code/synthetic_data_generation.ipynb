{
 "cells": [
  {
   "attachments": {},
   "cell_type": "markdown",
   "metadata": {},
   "source": [
    "* Quantitative (Numerical)\n",
    "Integer or Float\n",
    "Boolean (0, 1)\n",
    "* Qualitative (Categorical)\n",
    "Nominal (no natual order or hierarchy)\n",
    "Ordinal (they have a natural order)\n",
    "Boolean (True, False)\n",
    "\n",
    "Also dates"
   ]
  },
  {
   "cell_type": "code",
   "execution_count": 1,
   "metadata": {},
   "outputs": [],
   "source": [
    "import os\n",
    "import pandas as pd\n",
    "import numpy as np\n",
    "from faker import Faker\n",
    "\n",
    "fake = Faker()\n",
    "\n",
    "# Set random seed for reproducibility\n",
    "np.random.seed(1234)\n",
    "\n",
    "# Define the number of rows and columns for the dataset\n",
    "num_rows = 10000\n",
    "num_cols = 30\n",
    "\n",
    "# Define the column names and data types\n",
    "columns = {\n",
    "    \"customer_id\": np.arange(num_rows) + 1,\n",
    "    \"customer_name\": [fake.name() for _ in range(num_rows)],\n",
    "    \"age\": np.random.randint(18, 65, size=num_rows),\n",
    "    \"gender\": np.random.choice([\"Male\", \"Female\", \"Other\"], size=num_rows),\n",
    "    \"income\": np.round(np.random.normal(50000, 10000, size=num_rows), 2),\n",
    "    \"loyalty_points\": np.random.randint(0, 1000, size=num_rows),\n",
    "    \"is_member\": np.random.choice([True, False], size=num_rows),\n",
    "    \"order_date\": [fake.date_between(\"-1y\", \"today\") for _ in range(num_rows)],\n",
    "    \"order_time\": [fake.time() for _ in range(num_rows)],\n",
    "    \"product_1\": np.random.choice([\"A\", \"B\", \"C\", \"D\"], size=num_rows),\n",
    "    \"product_2\": np.random.choice([\"E\", \"F\", \"G\", \"H\"], size=num_rows),\n",
    "    \"product_3\": np.random.choice([\"I\", \"J\", \"K\", \"L\"], size=num_rows),\n",
    "    \"product_4\": np.random.choice([\"M\", \"N\", \"O\", \"P\"], size=num_rows),\n",
    "    \"product_5\": np.random.choice([\"Q\", \"R\", \"S\", \"T\"], size=num_rows),\n",
    "    \"category_1\": np.random.choice([\"Electronics\", \"Books\", \"Clothing\"], size=num_rows),\n",
    "    \"category_2\": np.random.choice([\"Home\", \"Office\", \"Outdoor\"], size=num_rows),\n",
    "    \"category_3\": np.random.choice([\"Food\", \"Drinks\", \"Snacks\"], size=num_rows),\n",
    "    \"category_4\": np.random.choice([\"Toys\", \"Games\", \"Sports\"], size=num_rows),\n",
    "    \"category_5\": np.random.choice([\"Beauty\", \"Health\", \"Pets\"], size=num_rows),\n",
    "    \"price_1\": np.round(np.random.uniform(10, 500, size=num_rows), 2),\n",
    "    \"price_2\": np.round(np.random.uniform(5, 200, size=num_rows), 2),\n",
    "    \"price_3\": np.round(np.random.uniform(2, 50, size=num_rows), 2),\n",
    "    \"price_4\": np.round(np.random.uniform(1, 20, size=num_rows), 2),\n",
    "    \"price_5\": np.round(np.random.uniform(0.5, 10, size=num_rows), 2),\n",
    "    \"quantity_1\": np.random.randint(1, 5, size=num_rows),\n",
    "    \"quantity_2\": np.random.randint(1, 10, size=num_rows),\n",
    "    \"quantity_3\": np.random.randint(1, 20, size=num_rows),\n",
    "    \"quantity_4\": np.random.randint(1, 50, size=num_rows),\n",
    "    \"quantity_5\": np.random.randint(1, 100, size=num_rows),\n",
    "}\n",
    "\n",
    "# Create the dataframe\n",
    "df = pd.DataFrame(columns)\n",
    "\n",
    "# Get the parent directory of the current working directory\n",
    "parent_dir = os.path.abspath(os.path.join(os.getcwd(), \"..\"))\n",
    "\n",
    "# Define the file path for the CSV file\n",
    "file_path = os.path.join(parent_dir, \"raw_data\", \"synthetic_dataset.csv\")\n",
    "\n",
    "# Preview the first 5 rows of the dataframe\n",
    "df.to_csv(file_path, index=False)"
   ]
  }
 ],
 "metadata": {
  "kernelspec": {
   "display_name": "eda-venv",
   "language": "python",
   "name": "python3"
  },
  "language_info": {
   "codemirror_mode": {
    "name": "ipython",
    "version": 3
   },
   "file_extension": ".py",
   "mimetype": "text/x-python",
   "name": "python",
   "nbconvert_exporter": "python",
   "pygments_lexer": "ipython3",
   "version": "3.10.11"
  },
  "orig_nbformat": 4
 },
 "nbformat": 4,
 "nbformat_minor": 2
}
